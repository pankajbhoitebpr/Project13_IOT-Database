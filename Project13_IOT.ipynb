{
 "cells": [
  {
   "cell_type": "code",
   "execution_count": 24,
   "metadata": {},
   "outputs": [],
   "source": [
    "import pandas as pd\n",
    "import numpy as np\n",
    "import seaborn as sns\n",
    "import matplotlib.pyplot"
   ]
  },
  {
   "cell_type": "code",
   "execution_count": 3,
   "metadata": {},
   "outputs": [
    {
     "data": {
      "text/html": [
       "<div>\n",
       "<style scoped>\n",
       "    .dataframe tbody tr th:only-of-type {\n",
       "        vertical-align: middle;\n",
       "    }\n",
       "\n",
       "    .dataframe tbody tr th {\n",
       "        vertical-align: top;\n",
       "    }\n",
       "\n",
       "    .dataframe thead th {\n",
       "        text-align: right;\n",
       "    }\n",
       "</style>\n",
       "<table border=\"1\" class=\"dataframe\">\n",
       "  <thead>\n",
       "    <tr style=\"text-align: right;\">\n",
       "      <th></th>\n",
       "      <th>id</th>\n",
       "      <th>room_id/id</th>\n",
       "      <th>noted_date</th>\n",
       "      <th>temp</th>\n",
       "      <th>out/in</th>\n",
       "    </tr>\n",
       "  </thead>\n",
       "  <tbody>\n",
       "    <tr>\n",
       "      <th>0</th>\n",
       "      <td>__export__.temp_log_196134_bd201015</td>\n",
       "      <td>Room Admin</td>\n",
       "      <td>08-12-2018 09:30</td>\n",
       "      <td>29</td>\n",
       "      <td>In</td>\n",
       "    </tr>\n",
       "    <tr>\n",
       "      <th>1</th>\n",
       "      <td>__export__.temp_log_196131_7bca51bc</td>\n",
       "      <td>Room Admin</td>\n",
       "      <td>08-12-2018 09:30</td>\n",
       "      <td>29</td>\n",
       "      <td>In</td>\n",
       "    </tr>\n",
       "    <tr>\n",
       "      <th>2</th>\n",
       "      <td>__export__.temp_log_196127_522915e3</td>\n",
       "      <td>Room Admin</td>\n",
       "      <td>08-12-2018 09:29</td>\n",
       "      <td>41</td>\n",
       "      <td>Out</td>\n",
       "    </tr>\n",
       "    <tr>\n",
       "      <th>3</th>\n",
       "      <td>__export__.temp_log_196128_be0919cf</td>\n",
       "      <td>Room Admin</td>\n",
       "      <td>08-12-2018 09:29</td>\n",
       "      <td>41</td>\n",
       "      <td>Out</td>\n",
       "    </tr>\n",
       "    <tr>\n",
       "      <th>4</th>\n",
       "      <td>__export__.temp_log_196126_d30b72fb</td>\n",
       "      <td>Room Admin</td>\n",
       "      <td>08-12-2018 09:29</td>\n",
       "      <td>31</td>\n",
       "      <td>In</td>\n",
       "    </tr>\n",
       "  </tbody>\n",
       "</table>\n",
       "</div>"
      ],
      "text/plain": [
       "                                    id  room_id/id        noted_date  temp  \\\n",
       "0  __export__.temp_log_196134_bd201015  Room Admin  08-12-2018 09:30    29   \n",
       "1  __export__.temp_log_196131_7bca51bc  Room Admin  08-12-2018 09:30    29   \n",
       "2  __export__.temp_log_196127_522915e3  Room Admin  08-12-2018 09:29    41   \n",
       "3  __export__.temp_log_196128_be0919cf  Room Admin  08-12-2018 09:29    41   \n",
       "4  __export__.temp_log_196126_d30b72fb  Room Admin  08-12-2018 09:29    31   \n",
       "\n",
       "  out/in  \n",
       "0     In  \n",
       "1     In  \n",
       "2    Out  \n",
       "3    Out  \n",
       "4     In  "
      ]
     },
     "execution_count": 3,
     "metadata": {},
     "output_type": "execute_result"
    }
   ],
   "source": [
    "df=pd.read_csv('IOT-temp.csv')\n",
    "df.head()"
   ]
  },
  {
   "cell_type": "code",
   "execution_count": 4,
   "metadata": {},
   "outputs": [
    {
     "data": {
      "text/plain": [
       "id            0\n",
       "room_id/id    0\n",
       "noted_date    0\n",
       "temp          0\n",
       "out/in        0\n",
       "dtype: int64"
      ]
     },
     "execution_count": 4,
     "metadata": {},
     "output_type": "execute_result"
    }
   ],
   "source": [
    "df.isnull().sum()"
   ]
  },
  {
   "cell_type": "code",
   "execution_count": 5,
   "metadata": {},
   "outputs": [
    {
     "data": {
      "text/plain": [
       "id            object\n",
       "room_id/id    object\n",
       "noted_date    object\n",
       "temp           int64\n",
       "out/in        object\n",
       "dtype: object"
      ]
     },
     "execution_count": 5,
     "metadata": {},
     "output_type": "execute_result"
    }
   ],
   "source": [
    "df.dtypes"
   ]
  },
  {
   "cell_type": "code",
   "execution_count": 6,
   "metadata": {},
   "outputs": [
    {
     "data": {
      "text/html": [
       "<div>\n",
       "<style scoped>\n",
       "    .dataframe tbody tr th:only-of-type {\n",
       "        vertical-align: middle;\n",
       "    }\n",
       "\n",
       "    .dataframe tbody tr th {\n",
       "        vertical-align: top;\n",
       "    }\n",
       "\n",
       "    .dataframe thead th {\n",
       "        text-align: right;\n",
       "    }\n",
       "</style>\n",
       "<table border=\"1\" class=\"dataframe\">\n",
       "  <thead>\n",
       "    <tr style=\"text-align: right;\">\n",
       "      <th></th>\n",
       "      <th>temp</th>\n",
       "    </tr>\n",
       "  </thead>\n",
       "  <tbody>\n",
       "    <tr>\n",
       "      <th>count</th>\n",
       "      <td>97606.000000</td>\n",
       "    </tr>\n",
       "    <tr>\n",
       "      <th>mean</th>\n",
       "      <td>35.053931</td>\n",
       "    </tr>\n",
       "    <tr>\n",
       "      <th>std</th>\n",
       "      <td>5.699825</td>\n",
       "    </tr>\n",
       "    <tr>\n",
       "      <th>min</th>\n",
       "      <td>21.000000</td>\n",
       "    </tr>\n",
       "    <tr>\n",
       "      <th>25%</th>\n",
       "      <td>30.000000</td>\n",
       "    </tr>\n",
       "    <tr>\n",
       "      <th>50%</th>\n",
       "      <td>35.000000</td>\n",
       "    </tr>\n",
       "    <tr>\n",
       "      <th>75%</th>\n",
       "      <td>40.000000</td>\n",
       "    </tr>\n",
       "    <tr>\n",
       "      <th>max</th>\n",
       "      <td>51.000000</td>\n",
       "    </tr>\n",
       "  </tbody>\n",
       "</table>\n",
       "</div>"
      ],
      "text/plain": [
       "               temp\n",
       "count  97606.000000\n",
       "mean      35.053931\n",
       "std        5.699825\n",
       "min       21.000000\n",
       "25%       30.000000\n",
       "50%       35.000000\n",
       "75%       40.000000\n",
       "max       51.000000"
      ]
     },
     "execution_count": 6,
     "metadata": {},
     "output_type": "execute_result"
    }
   ],
   "source": [
    "df.describe()"
   ]
  },
  {
   "cell_type": "code",
   "execution_count": 7,
   "metadata": {},
   "outputs": [
    {
     "data": {
      "text/html": [
       "<div>\n",
       "<style scoped>\n",
       "    .dataframe tbody tr th:only-of-type {\n",
       "        vertical-align: middle;\n",
       "    }\n",
       "\n",
       "    .dataframe tbody tr th {\n",
       "        vertical-align: top;\n",
       "    }\n",
       "\n",
       "    .dataframe thead th {\n",
       "        text-align: right;\n",
       "    }\n",
       "</style>\n",
       "<table border=\"1\" class=\"dataframe\">\n",
       "  <thead>\n",
       "    <tr style=\"text-align: right;\">\n",
       "      <th></th>\n",
       "      <th>id</th>\n",
       "      <th>room_id/id</th>\n",
       "      <th>noted_date</th>\n",
       "      <th>temp</th>\n",
       "      <th>out/in</th>\n",
       "    </tr>\n",
       "  </thead>\n",
       "  <tbody>\n",
       "    <tr>\n",
       "      <th>0</th>\n",
       "      <td>__export__.temp_log_196134_bd201015</td>\n",
       "      <td>Room Admin</td>\n",
       "      <td>08-12-2018 09:30</td>\n",
       "      <td>29</td>\n",
       "      <td>0</td>\n",
       "    </tr>\n",
       "    <tr>\n",
       "      <th>1</th>\n",
       "      <td>__export__.temp_log_196131_7bca51bc</td>\n",
       "      <td>Room Admin</td>\n",
       "      <td>08-12-2018 09:30</td>\n",
       "      <td>29</td>\n",
       "      <td>0</td>\n",
       "    </tr>\n",
       "    <tr>\n",
       "      <th>2</th>\n",
       "      <td>__export__.temp_log_196127_522915e3</td>\n",
       "      <td>Room Admin</td>\n",
       "      <td>08-12-2018 09:29</td>\n",
       "      <td>41</td>\n",
       "      <td>1</td>\n",
       "    </tr>\n",
       "    <tr>\n",
       "      <th>3</th>\n",
       "      <td>__export__.temp_log_196128_be0919cf</td>\n",
       "      <td>Room Admin</td>\n",
       "      <td>08-12-2018 09:29</td>\n",
       "      <td>41</td>\n",
       "      <td>1</td>\n",
       "    </tr>\n",
       "    <tr>\n",
       "      <th>4</th>\n",
       "      <td>__export__.temp_log_196126_d30b72fb</td>\n",
       "      <td>Room Admin</td>\n",
       "      <td>08-12-2018 09:29</td>\n",
       "      <td>31</td>\n",
       "      <td>0</td>\n",
       "    </tr>\n",
       "  </tbody>\n",
       "</table>\n",
       "</div>"
      ],
      "text/plain": [
       "                                    id  room_id/id        noted_date  temp  \\\n",
       "0  __export__.temp_log_196134_bd201015  Room Admin  08-12-2018 09:30    29   \n",
       "1  __export__.temp_log_196131_7bca51bc  Room Admin  08-12-2018 09:30    29   \n",
       "2  __export__.temp_log_196127_522915e3  Room Admin  08-12-2018 09:29    41   \n",
       "3  __export__.temp_log_196128_be0919cf  Room Admin  08-12-2018 09:29    41   \n",
       "4  __export__.temp_log_196126_d30b72fb  Room Admin  08-12-2018 09:29    31   \n",
       "\n",
       "   out/in  \n",
       "0       0  \n",
       "1       0  \n",
       "2       1  \n",
       "3       1  \n",
       "4       0  "
      ]
     },
     "execution_count": 7,
     "metadata": {},
     "output_type": "execute_result"
    }
   ],
   "source": [
    " num_val={'Out':1,'In':0}\n",
    "df['out/in']=df[\"out/in\"].apply(lambda x:num_val[x])\n",
    "df.head()"
   ]
  },
  {
   "cell_type": "code",
   "execution_count": 8,
   "metadata": {},
   "outputs": [
    {
     "data": {
      "text/plain": [
       "<matplotlib.axes._subplots.AxesSubplot at 0x2005714feb8>"
      ]
     },
     "execution_count": 8,
     "metadata": {},
     "output_type": "execute_result"
    },
    {
     "data": {
      "image/png": "[encoded data removed]",
      "text/plain": [
       "<Figure size 432x288 with 1 Axes>"
      ]
     },
     "metadata": {
      "needs_background": "light"
     },
     "output_type": "display_data"
    }
   ],
   "source": [
    "df['temp'].plot.box()"
   ]
  },
  {
   "cell_type": "code",
   "execution_count": 9,
   "metadata": {},
   "outputs": [
    {
     "data": {
      "text/plain": [
       "<matplotlib.axes._subplots.AxesSubplot at 0x200576947b8>"
      ]
     },
     "execution_count": 9,
     "metadata": {},
     "output_type": "execute_result"
    },
    {
     "data": {
      "image/png": "[encoded data removed]",
      "text/plain": [
       "<Figure size 432x288 with 1 Axes>"
      ]
     },
     "metadata": {
      "needs_background": "light"
     },
     "output_type": "display_data"
    }
   ],
   "source": [
    "df['out/in'].plot.box()"
   ]
  },
  {
   "cell_type": "code",
   "execution_count": 10,
   "metadata": {},
   "outputs": [
    {
     "data": {
      "text/plain": [
       "<seaborn.axisgrid.PairGrid at 0x200576fb208>"
      ]
     },
     "execution_count": 10,
     "metadata": {},
     "output_type": "execute_result"
    },
    {
     "data": {
      "image/png": "[encoded data removed]",
      "text/plain": [
       "<Figure size 360x360 with 6 Axes>"
      ]
     },
     "metadata": {
      "needs_background": "light"
     },
     "output_type": "display_data"
    }
   ],
   "source": [
    "sns.pairplot(df)"
   ]
  },
  {
   "cell_type": "code",
   "execution_count": 11,
   "metadata": {},
   "outputs": [
    {
     "data": {
      "text/plain": [
       "array([29, 29, 41, ..., 31, 31, 31], dtype=int64)"
      ]
     },
     "execution_count": 11,
     "metadata": {},
     "output_type": "execute_result"
    }
   ],
   "source": [
    "x=df.iloc[:,-2].values\n",
    "x"
   ]
  },
  {
   "cell_type": "code",
   "execution_count": 12,
   "metadata": {},
   "outputs": [
    {
     "data": {
      "text/plain": [
       "array([0, 0, 1, ..., 0, 0, 0], dtype=int64)"
      ]
     },
     "execution_count": 12,
     "metadata": {},
     "output_type": "execute_result"
    }
   ],
   "source": [
    "y=df.iloc[:,-1].values\n",
    "y"
   ]
  },
  {
   "cell_type": "code",
   "execution_count": 13,
   "metadata": {},
   "outputs": [
    {
     "data": {
      "text/plain": [
       "(97606,)"
      ]
     },
     "execution_count": 13,
     "metadata": {},
     "output_type": "execute_result"
    }
   ],
   "source": [
    "x.shape"
   ]
  },
  {
   "cell_type": "code",
   "execution_count": 14,
   "metadata": {},
   "outputs": [
    {
     "data": {
      "text/plain": [
       "(97606,)"
      ]
     },
     "execution_count": 14,
     "metadata": {},
     "output_type": "execute_result"
    }
   ],
   "source": [
    "y.shape"
   ]
  },
  {
   "cell_type": "code",
   "execution_count": 15,
   "metadata": {},
   "outputs": [
    {
     "data": {
      "text/plain": [
       "array([[29],\n",
       "       [29],\n",
       "       [41],\n",
       "       ...,\n",
       "       [31],\n",
       "       [31],\n",
       "       [31]], dtype=int64)"
      ]
     },
     "execution_count": 15,
     "metadata": {},
     "output_type": "execute_result"
    }
   ],
   "source": [
    "x=x.reshape(-1,1)\n",
    "x"
   ]
  },
  {
   "cell_type": "code",
   "execution_count": 16,
   "metadata": {},
   "outputs": [
    {
     "data": {
      "text/plain": [
       "array([[0],\n",
       "       [0],\n",
       "       [1],\n",
       "       ...,\n",
       "       [0],\n",
       "       [0],\n",
       "       [0]], dtype=int64)"
      ]
     },
     "execution_count": 16,
     "metadata": {},
     "output_type": "execute_result"
    }
   ],
   "source": [
    "y=y.reshape(-1,1)\n",
    "y"
   ]
  },
  {
   "cell_type": "code",
   "execution_count": 18,
   "metadata": {},
   "outputs": [],
   "source": [
    "from sklearn.linear_model import LogisticRegression\n",
    "from sklearn.metrics import accuracy_score\n",
    "from sklearn.metrics import confusion_matrix,classification_report\n",
    "from sklearn.model_selection import train_test_split\n",
    "from sklearn.naive_bayes import GaussianNB\n",
    "\n",
    "from sklearn.svm import SVC\n",
    "import warnings\n",
    "warnings.filterwarnings('ignore')"
   ]
  },
  {
   "cell_type": "code",
   "execution_count": 19,
   "metadata": {},
   "outputs": [],
   "source": [
    "x_train,x_test,y_train,y_test=train_test_split(x,y,test_size=0.3,random_state=42)"
   ]
  },
  {
   "cell_type": "code",
   "execution_count": 23,
   "metadata": {},
   "outputs": [
    {
     "name": "stdout",
     "output_type": "stream",
     "text": [
      "0.772351615326822\n",
      "[[  508  5533]\n",
      " [ 1133 22108]]\n",
      "              precision    recall  f1-score   support\n",
      "\n",
      "           0       0.31      0.08      0.13      6041\n",
      "           1       0.80      0.95      0.87     23241\n",
      "\n",
      "    accuracy                           0.77     29282\n",
      "   macro avg       0.55      0.52      0.50     29282\n",
      "weighted avg       0.70      0.77      0.72     29282\n",
      "\n"
     ]
    }
   ],
   "source": [
    "lr=LogisticRegression()\n",
    "lr.fit(x_train,y_train)\n",
    "lr.score(x_train,y_train)\n",
    "predlr=lr.predict(x_test)\n",
    "print(accuracy_score(y_test,predlr))\n",
    "print(confusion_matrix(y_test,predlr))\n",
    "print(classification_report(y_test,predlr))"
   ]
  },
  {
   "cell_type": "code",
   "execution_count": 22,
   "metadata": {},
   "outputs": [
    {
     "name": "stdout",
     "output_type": "stream",
     "text": [
      "0.8150741069599071\n",
      "[[ 1785  4256]\n",
      " [ 1159 22082]]\n",
      "              precision    recall  f1-score   support\n",
      "\n",
      "           0       0.61      0.30      0.40      6041\n",
      "           1       0.84      0.95      0.89     23241\n",
      "\n",
      "    accuracy                           0.82     29282\n",
      "   macro avg       0.72      0.62      0.64     29282\n",
      "weighted avg       0.79      0.82      0.79     29282\n",
      "\n"
     ]
    }
   ],
   "source": [
    "svc=SVC()\n",
    "svc.fit(x_train,y_train)\n",
    "svc.score(x_train,y_train)\n",
    "predsvc=svc.predict(x_test)\n",
    "print(accuracy_score(y_test,predsvc))\n",
    "print(confusion_matrix(y_test,predsvc))\n",
    "print(classification_report(y_test,predsvc))"
   ]
  },
  {
   "cell_type": "code",
   "execution_count": 26,
   "metadata": {},
   "outputs": [
    {
     "name": "stdout",
     "output_type": "stream",
     "text": [
      "0.7237210573048289\n",
      "[[ 2504  3537]\n",
      " [ 4553 18688]]\n",
      "              precision    recall  f1-score   support\n",
      "\n",
      "           0       0.35      0.41      0.38      6041\n",
      "           1       0.84      0.80      0.82     23241\n",
      "\n",
      "    accuracy                           0.72     29282\n",
      "   macro avg       0.60      0.61      0.60     29282\n",
      "weighted avg       0.74      0.72      0.73     29282\n",
      "\n"
     ]
    }
   ],
   "source": [
    "gnb=GaussianNB()\n",
    "gnb.fit(x_train,y_train)\n",
    "gnb.score(x_train,y_train)\n",
    "predgnb=gnb.predict(x_test)\n",
    "print(accuracy_score(y_test,predgnb))\n",
    "print(confusion_matrix(y_test,predgnb))\n",
    "print(classification_report(y_test,predgnb))"
   ]
  },
  {
   "cell_type": "code",
   "execution_count": 27,
   "metadata": {},
   "outputs": [
    {
     "name": "stdout",
     "output_type": "stream",
     "text": [
      "0.8150741069599071\n",
      "[[ 1785  4256]\n",
      " [ 1159 22082]]\n",
      "              precision    recall  f1-score   support\n",
      "\n",
      "           0       0.61      0.30      0.40      6041\n",
      "           1       0.84      0.95      0.89     23241\n",
      "\n",
      "    accuracy                           0.82     29282\n",
      "   macro avg       0.72      0.62      0.64     29282\n",
      "weighted avg       0.79      0.82      0.79     29282\n",
      "\n"
     ]
    }
   ],
   "source": [
    "from sklearn.tree import DecisionTreeClassifier\n",
    "dt=DecisionTreeClassifier()\n",
    "dt.fit(x_train,y_train)\n",
    "dt.score(x_train,y_train)\n",
    "preddt=dt.predict(x_test)\n",
    "print(accuracy_score(y_test,preddt))\n",
    "print(confusion_matrix(y_test,preddt))\n",
    "print(classification_report(y_test,preddt))"
   ]
  },
  {
   "cell_type": "code",
   "execution_count": 28,
   "metadata": {},
   "outputs": [
    {
     "name": "stdout",
     "output_type": "stream",
     "text": [
      "0.8150741069599071\n",
      "[[ 1785  4256]\n",
      " [ 1159 22082]]\n",
      "              precision    recall  f1-score   support\n",
      "\n",
      "           0       0.61      0.30      0.40      6041\n",
      "           1       0.84      0.95      0.89     23241\n",
      "\n",
      "    accuracy                           0.82     29282\n",
      "   macro avg       0.72      0.62      0.64     29282\n",
      "weighted avg       0.79      0.82      0.79     29282\n",
      "\n"
     ]
    }
   ],
   "source": [
    "from sklearn.ensemble import GradientBoostingClassifier\n",
    "gbc=GradientBoostingClassifier()\n",
    "gbc.fit(x_train,y_train)\n",
    "gbc.score(x_train,y_train)\n",
    "predgbc=dt.predict(x_test)\n",
    "print(accuracy_score(y_test,predgbc))\n",
    "print(confusion_matrix(y_test,predgbc))\n",
    "\n",
    "print(classification_report(y_test,predgbc))"
   ]
  },
  {
   "cell_type": "code",
   "execution_count": 29,
   "metadata": {},
   "outputs": [
    {
     "name": "stdout",
     "output_type": "stream",
     "text": [
      "0.8150741069599071\n",
      "[[ 1785  4256]\n",
      " [ 1159 22082]]\n",
      "              precision    recall  f1-score   support\n",
      "\n",
      "           0       0.61      0.30      0.40      6041\n",
      "           1       0.84      0.95      0.89     23241\n",
      "\n",
      "    accuracy                           0.82     29282\n",
      "   macro avg       0.72      0.62      0.64     29282\n",
      "weighted avg       0.79      0.82      0.79     29282\n",
      "\n"
     ]
    }
   ],
   "source": [
    "from sklearn.ensemble import RandomForestClassifier\n",
    "rf=RandomForestClassifier()\n",
    "rf.fit(x_train,y_train)\n",
    "rf.score(x_train,y_train)\n",
    "predrf=rf.predict(x_test)\n",
    "print(accuracy_score(y_test,predrf))\n",
    "print(confusion_matrix(y_test,predrf))\n",
    "\n",
    "print(classification_report(y_test,predrf))"
   ]
  },
  {
   "cell_type": "code",
   "execution_count": 30,
   "metadata": {},
   "outputs": [],
   "source": [
    "from sklearn.ensemble import AdaBoostClassifier"
   ]
  },
  {
   "cell_type": "code",
   "execution_count": 31,
   "metadata": {},
   "outputs": [
    {
     "name": "stdout",
     "output_type": "stream",
     "text": [
      "0.8150741069599071\n",
      "[[ 1785  4256]\n",
      " [ 1159 22082]]\n",
      "              precision    recall  f1-score   support\n",
      "\n",
      "           0       0.61      0.30      0.40      6041\n",
      "           1       0.84      0.95      0.89     23241\n",
      "\n",
      "    accuracy                           0.82     29282\n",
      "   macro avg       0.72      0.62      0.64     29282\n",
      "weighted avg       0.79      0.82      0.79     29282\n",
      "\n"
     ]
    }
   ],
   "source": [
    "adb= AdaBoostClassifier()\n",
    "adb.fit(x_train,y_train)\n",
    "adb.score(x_train,y_train)\n",
    "predadb=rf.predict(x_test)\n",
    "print(accuracy_score(y_test,predadb))\n",
    "print(confusion_matrix(y_test,predadb))\n",
    "\n",
    "print(classification_report(y_test,predadb))"
   ]
  },
  {
   "cell_type": "markdown",
   "metadata": {},
   "source": [
    "From Above Analysis we can conclude that from Decision Tree,RandomForest and Adabooster Classifier we get 81.50% Accuracy."
   ]
  },
  {
   "cell_type": "code",
   "execution_count": null,
   "metadata": {},
   "outputs": [],
   "source": []
  }
 ],
 "metadata": {
  "kernelspec": {
   "display_name": "Python 3",
   "language": "python",
   "name": "python3"
  },
  "language_info": {
   "codemirror_mode": {
    "name": "ipython",
    "version": 3
   },
   "file_extension": ".py",
   "mimetype": "text/x-python",
   "name": "python",
   "nbconvert_exporter": "python",
   "pygments_lexer": "ipython3",
   "version": "3.7.3"
  }
 },
 "nbformat": 4,
 "nbformat_minor": 2
}
